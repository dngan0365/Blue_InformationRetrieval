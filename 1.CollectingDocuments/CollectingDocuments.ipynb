{
 "cells": [
  {
   "cell_type": "markdown",
   "id": "18b47a99",
   "metadata": {},
   "source": [
    "# 1. Collectiong Documents"
   ]
  },
  {
   "cell_type": "code",
   "execution_count": 1,
   "id": "c62d2a96",
   "metadata": {},
   "outputs": [],
   "source": [
    "a = 1"
   ]
  }
 ],
 "metadata": {
  "kernelspec": {
   "display_name": ".venv",
   "language": "python",
   "name": "python3"
  },
  "language_info": {
   "codemirror_mode": {
    "name": "ipython",
    "version": 3
   },
   "file_extension": ".py",
   "mimetype": "text/x-python",
   "name": "python",
   "nbconvert_exporter": "python",
   "pygments_lexer": "ipython3",
   "version": "3.12.6"
  }
 },
 "nbformat": 4,
 "nbformat_minor": 5
}
