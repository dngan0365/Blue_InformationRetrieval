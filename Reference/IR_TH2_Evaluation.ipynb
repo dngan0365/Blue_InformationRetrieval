{
  "nbformat": 4,
  "nbformat_minor": 0,
  "metadata": {
    "colab": {
      "provenance": []
    },
    "kernelspec": {
      "name": "python3",
      "display_name": "Python 3"
    },
    "language_info": {
      "name": "python"
    }
  },
  "cells": [
    {
      "cell_type": "code",
      "source": [
        "from google.colab import drive\n",
        "\n",
        "drive.mount(\"/content/C\")"
      ],
      "metadata": {
        "colab": {
          "base_uri": "https://localhost:8080/"
        },
        "id": "1zr_oSXk0jh4",
        "outputId": "cfc500a5-94ad-456f-d957-6c77f2e3b186"
      },
      "execution_count": 2,
      "outputs": [
        {
          "output_type": "stream",
          "name": "stdout",
          "text": [
            "Mounted at /content/C\n"
          ]
        }
      ]
    },
    {
      "cell_type": "code",
      "source": [
        "%%capture\n",
        "!unzip /content/C/MyDrive/CS419.N11/Cranfield.zip -d Cranfield\n",
        "!unzip /content/C/MyDrive/CS419.N11/TEST.zip -d Cranfield\n",
        "!pip install Whoosh\n",
        "!pip install pytrec_eval\n",
        "!mkdir ind"
      ],
      "metadata": {
        "id": "-A5Wi4Uj0oML"
      },
      "execution_count": 3,
      "outputs": []
    },
    {
      "cell_type": "markdown",
      "source": [
        "\n",
        "**I) XỬ LÝ CÁC CÂU TRUY VẤN**\n",
        "\n",
        "***1) LẬP CHỈ MỤC***\n",
        "- Chọn term là dạng thân từ.\n",
        "- Mô hình xác suất với trọng số term TF.IDF"
      ],
      "metadata": {
        "id": "dgHdBdjgsUXL"
      }
    },
    {
      "cell_type": "code",
      "execution_count": 4,
      "metadata": {
        "id": "JixG02boOY7t",
        "colab": {
          "base_uri": "https://localhost:8080/"
        },
        "outputId": "40602a6d-fd58-4dad-cffb-1eb535c485e4"
      },
      "outputs": [
        {
          "output_type": "stream",
          "name": "stderr",
          "text": [
            "[nltk_data] Downloading package punkt_tab to /root/nltk_data...\n",
            "[nltk_data]   Unzipping tokenizers/punkt_tab.zip.\n",
            "[nltk_data] Downloading package stopwords to /root/nltk_data...\n",
            "[nltk_data]   Unzipping corpora/stopwords.zip.\n"
          ]
        }
      ],
      "source": [
        "import os\n",
        "import nltk\n",
        "from nltk import sent_tokenize\n",
        "from nltk.tokenize import word_tokenize\n",
        "from nltk.corpus import stopwords\n",
        "from nltk.stem import PorterStemmer\n",
        "\n",
        "from whoosh.index import create_in\n",
        "from whoosh.fields import *\n",
        "from whoosh.analysis import StandardAnalyzer\n",
        "from whoosh import qparser\n",
        "from whoosh import scoring\n",
        "import whoosh.index as index\n",
        "\n",
        "import pytrec_eval\n",
        "import math\n",
        "\n",
        "\n",
        "nltk.download('punkt_tab')\n",
        "nltk.download('stopwords')\n",
        "stoplist = stopwords.words(\"english\")\n",
        "stoplist.append('oh')\n",
        "puncts = ['.', ',', ':', '`', '\"', \"'\", '!', '?', \"``\", \"''\"]\n",
        "ps = PorterStemmer()"
      ]
    },
    {
      "cell_type": "code",
      "source": [
        "def preprocess(tok, stemmer=ps, punctlist=puncts, stopwords=stoplist):\n",
        "  tok = tok.lower()\n",
        "  if tok.isdigit():\n",
        "    return None\n",
        "  if tok.isnumeric():\n",
        "    return None\n",
        "  if tok in punctlist:\n",
        "    return None\n",
        "  if tok in stopwords:\n",
        "    return None\n",
        "  return stemmer.stem(tok)\n",
        "\n",
        "def indexing(src, idx=\"ind\"):\n",
        "  if src[-1] != '/':\n",
        "    src += '/'\n",
        "  schema = Schema(docid=STORED(), content=TEXT(stored=True, analyzer=StandardAnalyzer()))\n",
        "  ix = create_in(idx, schema)\n",
        "  writer = ix.writer()\n",
        "\n",
        "  files = os.listdir(src)\n",
        "  for f in files:\n",
        "    r = open(src + f, encoding=\"cp1252\")\n",
        "    terms = []\n",
        "    for s in r:\n",
        "      for sent in sent_tokenize(s.strip()):\n",
        "        for tok in word_tokenize(sent):\n",
        "          tok = preprocess(tok)\n",
        "          if tok != None:\n",
        "            terms.append(tok)\n",
        "    r.close()\n",
        "    cont = \" \".join(terms)\n",
        "    writer.add_document(docid=\"{}\".format(f.split(\".\")[0]), content=cont)\n",
        "  writer.commit()"
      ],
      "metadata": {
        "id": "i1huAMdSUBcH"
      },
      "execution_count": 5,
      "outputs": []
    },
    {
      "cell_type": "code",
      "source": [
        "indexing(\"Cranfield/Cranfield\", \"ind\")"
      ],
      "metadata": {
        "id": "1bTWhqSW6fJR"
      },
      "execution_count": 6,
      "outputs": []
    },
    {
      "cell_type": "markdown",
      "source": [
        "\n",
        "***2) Xử lý truy vấn***\n",
        "- Chuẩn bị tập Ground Truth\n",
        "- Chuẩn bị tập câu truy vấn.\n",
        "- Truy vấn chỉ mục với mô hình xác suất, trọng số term tính theo TF_IDF"
      ],
      "metadata": {
        "id": "ahs5sckdYKUB"
      }
    },
    {
      "cell_type": "code",
      "source": [
        "def readGroundTruth(src):\n",
        "  if src[-1] != '/':\n",
        "    src += '/'\n",
        "\n",
        "  GT = {}\n",
        "  for f in os.listdir(src):\n",
        "    r = open(src + f)\n",
        "    rel = {}\n",
        "    for s in r:\n",
        "      s = s.strip()\n",
        "      sp = s.split(\"\\t\")\n",
        "      if len(sp) < 2:\n",
        "        continue\n",
        "      did = sp[0].split(\" \")[1]\n",
        "      rel[did] = int(sp[1])\n",
        "    GT[f.split(\".\")[0]] = rel\n",
        "    r.close()\n",
        "  return GT"
      ],
      "metadata": {
        "id": "xNjrJv9kBTrw"
      },
      "execution_count": 7,
      "outputs": []
    },
    {
      "cell_type": "code",
      "source": [
        "GroundTruth = readGroundTruth(\"Cranfield/RES\")\n",
        "print(GroundTruth)"
      ],
      "metadata": {
        "colab": {
          "base_uri": "https://localhost:8080/"
        },
        "id": "LrTKtiZ7CqWx",
        "outputId": "fc025309-81d9-4d54-8050-350f81feb331"
      },
      "execution_count": 8,
      "outputs": [
        {
          "output_type": "stream",
          "name": "stdout",
          "text": [
            "{'217': {'666': 1, '667': 1, '1258': 2, '1394': 2, '668': 3, '670': 3, '1204': 3, '1391': 4, '1395': 1, '1300': 3, '37': 3, '559': 3, '630': 3, '1107': 3, '1213': 3, '1191': -1}, '191': {'914': 1, '915': 1, '285': 2, '857': 2, '858': 2, '15': 3, '391': 3, '856': 3, '390': 4, '1008': 4, '948': 3, '864': 3, '658': 3, '894': -1}, '136': {'1021': 1, '1022': 4, '1034': 4, '951': -1}, '132': {'1014': 1, '1013': 3, '1015': 3, '1016': 3, '1012': 4, '1018': 4, '1019': 4, '1017': 3, '951': 3, '1023': 3, '1020': 4, '952': 4, '1024': 4, '1025': 3, '1026': 3, '950': -1}, '164': {'311': 2, '415': 3, '416': 3, '798': 3, '316': 4, '335': 4, '1364': 3, '1367': 3, '503': -1}, '67': {'2': 1, '3': 1, '664': 2, '629': 2, '323': 3, '324': 3, '393': 3, '128': 1, '180': 1, '394': 3, '659': 3, '389': 3, '4': 3, '1302': 3, '388': -1}, '11': {'27': 3, '28': 3, '262': 3, '160': 4, '20': 4, '263': 3, '654': 4, '495': -1}, '149': {'1057': 3, '1058': 3, '1059': 3, '1052': 4, '930': 3, '931': 3, '934': 3, '936': 3, '937': 3, '938': 3, '1131': 3, '957': -1}, '86': {'594': 3, '790': 3, '755': -1}, '25': {'213': 2, '212': 3, '214': 3, '215': 3, '216': 3, '276': 3, '277': 3, '426': 3, '427': 3, '511': -1}, '223': {'400': 3, '1387': 3, '1392': 3, '1398': 3, '1396': -1}, '10': {'259': 2, '405': 2, '302': 3, '436': 3, '437': 3, '438': 3, '998': 3, '1011': 3, '493': -1}, '31': {'776': 4, '751': -1}, '106': {'847': 2, '846': 3, '849': 3, '844': 4, '845': 4, '764': -1}, '126': {'974': 2, '1326': 2, '187': 3, '969': 3, '970': 3, '971': 3, '972': 3, '973': 3, '942': -1}, '197': {'881': 2, '883': 3, '884': 3, '768': -1}, '8': {'48': 1, '122': 1, '20': 3, '58': 3, '196': 3, '354': 1, '360': 1, '197': 3, '999': 3, '1112': 3, '1005': 1, '492': -1}, '122': {'931': 4, '932': 2, '934': 4, '935': 4, '936': 2, '937': 2, '938': 2, '957': 3, '1131': 3, '898': -1}, '2': {'12': 1, '15': 2, '184': 2, '858': 2, '51': 3, '102': 3, '202': 3, '14': 4, '52': 4, '380': 4, '746': 1, '859': 2, '948': 2, '285': 3, '390': 3, '391': 3, '442': 4, '497': 3, '643': 3, '856': 3, '857': 3, '877': 3, '864': 3, '658': 3, '486': -1}, '179': {'680': 3, '681': 3, '682': 3, '683': 3, '633': -1}, '9': {'21': 2, '22': 2, '550': 2, '534': -1}, '85': {'608': 1, '406': 2, '606': 3, '710': 3, '546': -1}, '15': {'463': 1, '462': 3, '497': -1}, '61': {'565': 2, '566': 2, '564': 3, '1159': 3, '661': 4, '539': -1}, '170': {'139': 2, '238': 2, '239': 3, '904': 3, '906': 3, '672': 3, '893': -1}, '82': {'676': 2, '677': 2, '678': 3, '679': 3, '205': 3, '632': -1}, '134': {'1027': 2, '1028': 3, '951': -1}, '194': {'739': 2, '740': 2, '742': 2, '744': 3, '741': 4, '743': 2, '642': -1}, '65': {'2': 2, '3': 2, '128': 2, '180': 3, '323': 3, '324': 3, '418': 4, '664': 2, '629': 2, '393': 3, '394': 3, '659': 3, '4': 3, '384': 3, '1302': 3, '388': -1}, '37': {'173': 2, '188': 2, '172': 3, '97': 3, '121': 3, '187': 3, '242': 3, '409': 3, '487': 3, '519': -1}, '66': {'664': 2, '629': 2, '180': 3, '659': 3, '660': 3, '388': -1}, '145': {'763': 2, '838': 2, '839': 2, '1045': 3, '743': 3, '852': 4, '841': 2, '955': -1}, '57': {'380': 2, '593': 3, '746': 3, '914': 3, '14': 4, '379': 4, '705': 4, '779': 4, '780': 4, '704': 4, '12': 4, '15': 4, '857': 4, '859': 4, '753': -1}, '97': {'699': 3, '700': 3, '701': 3, '698': 4, '1289': 4, '702': 3, '703': 3, '779': 3, '1339': 4, '681': 3, '637': -1}, '212': {'888': 2, '889': 2, '1178': 2, '885': 3, '887': 3, '886': 3, '841': 4, '1176': 4, '1177': 4, '890': 3, '769': 3, '891': 3, '1173': 3, '843': 3, '1146': -1}, '24': {'46': 2, '47': 2, '92': 3, '756': -1}, '17': {'106': 2, '196': 3, '498': -1}, '147': {'889': 3, '1046': 3, '1048': 3, '1047': 4, '1049': 4, '1051': 4, '1050': 3, '843': 3, '926': 4, '822': 4, '956': -1}, '104': {'833': 3, '834': 3, '835': 3, '836': 3, '837': 3, '762': -1}, '124': {'967': 2, '968': 2, '964': 3, '965': 3, '941': -1}, '26': {'145': 1, '611': 1, '376': 2, '406': 2, '565': 2, '1076': 2, '511': -1}, '112': {'731': 3, '730': 4, '641': -1}, '47': {'304': 2, '306': 2, '307': 2, '305': 3, '629': 3, '663': 3, '308': 4, '309': 2, '310': 2, '570': 2, '798': 3, '1185': 3, '1355': 3, '572': 2, '525': -1}, '75': {'667': 2, '324': 3, '378': 3, '666': 3, '670': 3, '630': -1}, '193': {'730': 3, '422': 3, '648': 3, '731': 4, '733': 4, '734': 4, '1392': 3, '735': 4, '736': 4, '641': -1}, '225': {'1379': 2, '1305': 2, '1304': 2, '40': 3, '293': 3, '1309': 3, '161': 4, '421': 4, '1377': 4, '1378': 3, '1381': 3, '225': 3, '1380': 4, '448': 3, '449': 3, '1124': 3, '1280': 3, '433': 3, '923': 3, '924': 3, '1062': 3, '1074': 3, '1075': 3, '1213': 3, '1188': -1}, '30': {'225': 2, '464': 2, '514': 2, '466': 3, '609': 3, '612': 3, '793': 4, '513': -1}, '46': {'305': 2, '338': 3, '344': 3, '481': 3, '84': 4, '123': 4, '1185': 4, '623': 3, '570': 3, '798': 3, '1226': 4, '629': 4, '663': 4, '572': 4, '1355': 4, '525': -1}, '169': {'118': 1, '157': 1, '774': 1, '775': 1, '750': -1}, '32': {'465': 2, '249': 3, '777': 3, '778': 3, '247': 4, '250': 4, '752': -1}, '3': {'5': 3, '6': 3, '90': 3, '91': 3, '119': 3, '144': 3, '181': 3, '399': 3, '485': -1}, '218': {'24': 1, '101': 1, '666': 3, '667': 3, '93': 3, '1258': 4, '1393': 1, '559': 3, '630': 3, '662': 3, '1104': 3, '1107': 3, '1204': 3, '1213': 3, '1300': 3, '1191': -1}, '163': {'20': 3, '56': 3, '57': 3, '492': -1}, '215': {'37': 4, '35': 4, '535': -1}, '155': {'1103': 1, '1100': 2, '983': 3, '1101': 3, '1104': 3, '1099': 4, '1065': -1}, '139': {'1031': 2, '1032': 2, '1035': 2, '1037': 4, '953': -1}, '92': {'802': 2, '803': 2, '808': 3, '809': 3, '811': 3, '804': 4, '805': 4, '806': 4, '253': 3, '1247': 3, '807': 4, '810': 4, '1243': 4, '758': -1}, '125': {'969': 2, '970': 2, '971': 2, '187': 3, '973': 3, '173': 3, '974': 4, '177': 4, '972': 2, '174': 2, '997': 2, '176': 3, '409': 3, '946': 3, '992': 3, '994': 3, '995': 3, '942': -1}, '101': {'817': 2, '818': 2, '819': 2, '820': 3, '825': 3, '824': 2, '760': -1}, '91': {'252': 2, '801': 2, '797': 3, '799': 3, '800': 3, '793': 4, '794': 4, '1154': 3, '672': 4, '757': -1}, '178': {'591': 1, '590': 3, '588': 4, '589': 4, '543': -1}, '172': {'320': 1, '321': 1, '322': 3, '476': 3, '527': -1}, '103': {'826': 3, '828': 3, '761': -1}, '19': {'32': 2, '67': 2, '164': 2, '639': 3, '715': 3, '716': 3, '719': 4, '1379': 4, '717': 3, '499': -1}, '70': {'333': 1, '568': 2, '570': 2, '62': 2, '101': 3, '283': 3, '565': 3, '24': 4, '977': 3, '307': 3, '540': -1}, '115': {'51': 2, '185': 2, '878': 3, '874': 4, '184': -1}, '95': {'283': 1, '662': 4, '635': -1}, '77': {'668': 2, '666': 3, '667': 3, '670': 3, '329': 4, '1391': 4, '630': -1}, '219': {'1391': 1, '666': 2, '667': 2, '1258': 2, '1078': 3, '1080': 3, '1081': 3, '1394': 2, '1395': 2, '1214': 3, '1198': 3, '1204': 3, '1300': 3, '559': 3, '630': 3, '662': 3, '1107': 3, '1213': 3, '1191': -1}, '130': {'766': 2, '858': 3, '859': 3, '1008': 3, '12': 3, '948': -1}, '182': {'685': 1, '686': 3, '634': -1}, '12': {'86': 2, '194': 2, '650': 2, '649': 4, '652': 2, '624': -1}, '68': {'662': 2, '101': 3, '460': 3, '661': 3, '62': 3, '628': -1}, '41': {'288': 1, '289': 1, '433': 2, '520': -1}, '173': {'367': 1, '451': 1, '532': -1}, '137': {'1029': 2, '1034': 3, '951': 3, '1021': 3, '952': -1}, '203': {'58': 3, '1305': 3, '1306': 3, '602': 4, '603': 4, '604': 4, '1307': 3, '1310': 3, '19': 3, '232': 4, '323': 4, '688': 4, '122': 3, '1188': 4, '1285': -1}, '54': {'84': 2, '24': 3, '101': 3, '294': 3, '628': 4, '661': 4, '364': 3, '365': 3, '560': 3, '123': -1}, '207': {'1338': 2, '1339': 2, '1340': 3, '1341': 3, '879': 4, '1290': -1}, '133': {'1020': 1, '1018': 2, '1019': 2, '1024': 3, '1012': 4, '1016': 4, '1022': 4, '950': -1}, '168': {'217': 1, '774': 1, '750': -1}, '144': {'840': 2, '1045': 2, '763': 3, '838': 3, '839': 3, '841': 3, '955': -1}, '42': {'468': 2, '467': 3, '469': 3, '470': 3, '775': 4, '521': -1}, '189': {'395': 2, '866': 2, '869': 2, '865': 3, '868': 3, '870': 3, '867': 4, '872': 3, '873': 3, '767': -1}, '202': {'1303': 2, '1304': 2, '1309': 2, '1306': 3, '1308': 3, '605': 3, '602': 4, '603': 4, '604': 4, '1110': 2, '1305': 4, '1310': 4, '48': 4, '232': 4, '1285': -1}, '43': {'467': 1, '468': 1, '39': 3, '503': 3, '775': 3, '469': 1, '521': -1}, '141': {'1038': 1, '1041': 1, '1043': 2, '1044': 2, '1039': 3, '1042': 3, '954': -1}, '73': {'332': 2, '572': 2, '578': 2, '573': 3, '574': 3, '421': 3, '25': 4, '317': 4, '577': 4, '401': 2, '625': 2, '160': 3, '1213': 3, '1304': 3, '1198': 4, '655': 4, '1355': 4, '68': 3, '571': 3, '1252': 3, '541': -1}, '100': {'821': 2, '822': 2, '824': 2, '820': 3, '823': 3, '825': 3, '1122': 2, '1051': 3, '1121': 3, '760': -1}, '113': {'746': 3, '748': 3, '749': 3, '265': 3, '643': -1}, '135': {'1018': 1, '1017': 4, '1023': 4, '1024': 4, '1025': 4, '1026': 4, '950': 4, '1016': 4, '951': -1}, '6': {'99': 2, '115': 3, '257': 3, '258': 3, '491': -1}, '38': {'24': 2, '283': 2, '552': 2, '272': 3, '557': 4, '558': 4, '553': 2, '554': 2, '555': 2, '556': 2, '536': -1}, '210': {'1171': 2, '891': 3, '1172': 3, '1173': 3, '1030': 4, '1174': 3, '1145': -1}, '199': {'1052': 1, '1053': 1, '1054': 2, '1055': 2, '1056': 2, '1060': 2, '743': 2, '744': 2, '957': -1}, '206': {'1338': 2, '1341': 2, '1340': 3, '1290': -1}, '160': {'1134': 3, '1137': 3, '1138': 3, '1135': 4, '1136': 4, '1071': -1}, '148': {'889': 2, '1048': 2, '1050': 2, '1046': 3, '1049': 3, '843': 3, '956': -1}, '214': {'833': 3, '1361': 3, '1362': 3, '1363': 3, '1294': -1}, '192': {'733': 1, '734': 1, '735': 1, '736': 1, '641': -1}, '211': {'891': 2, '1172': 2, '1173': 3, '1174': 3, '763': 3, '769': 4, '1030': 4, '1031': 4, '1033': 4, '1052': 4, '1068': 4, '1145': -1}, '21': {'271': 1, '16': 2, '413': 2, '414': 3, '502': -1}, '140': {'1038': 1, '1039': 1, '1041': 2, '1042': 2, '1043': 4, '1044': 4, '954': -1}, '63': {'567': 1, '564': 3, '566': 3, '539': -1}, '81': {'672': 1, '799': 4, '631': -1}, '20': {'87': 3, '88': 3, '104': 3, '267': 3, '268': 3, '269': 3, '270': 3, '407': 3, '408': 3, '500': -1}, '157': {'273': 2, '1105': 2, '1106': 2, '93': 3, '161': 3, '302': 3, '122': 4, '666': 4, '1107': 2, '556': 2, '25': 2, '1011': 3, '19': 3, '35': 3, '1355': 4, '372': 2, '410': 2, '456': 2, '36': 3, '44': 3, '215': 3, '626': 2, '1151': 2, '354': 3, '369': 3, '370': 3, '421': 3, '557': 3, '605': 3, '655': 3, '657': 3, '689': 3, '1307': 3, '318': 3, '423': 3, '1304': 3, '160': 3, '482': 3, '572': 3, '1006': -1}, '35': {'166': 1, '167': 1, '132': 3, '517': -1}, '118': {'923': 2, '924': 3, '925': 3, '896': -1}, '120': {'829': 2, '887': 2, '890': 2, '885': 3, '886': 3, '888': 3, '889': 4, '1146': 2, '891': 3, '769': -1}, '84': {'606': 2, '406': 2, '608': 3, '142': 3, '294': 3, '354': 4, '522': 4, '962': 3, '1192': 3, '1213': 3, '873': 4, '546': -1}, '48': {'439': 2, '311': 3, '316': 3, '440': 3, '187': 4, '314': 4, '315': 4, '797': 3, '798': 3, '794': 4, '265': 4, '526': -1}, '220': {'1383': 2, '1385': 2, '155': 3, '241': 3, '1382': 3, '1370': 4, '1386': 4, '111': 4, '1384': 3, '150': 3, '292': 3, '458': 4, '479': 4, '977': 4, '376': 3, '459': 3, '1365': 3, '62': 3, '1366': 3, '1182': -1}, '36': {'169': 2, '168': 3, '518': -1}, '16': {'266': 2, '106': 3, '196': 3, '498': -1}, '166': {'40': 2, '41': 2, '74': 2, '207': 2, '272': 2, '418': 2, '170': 2, '1264': 2, '504': -1}, '89': {'793': 2, '794': 2, '797': 3, '795': 4, '796': 4, '420': 4, '757': -1}, '221': {'155': 2, '1383': 2, '1385': 2, '1382': 3, '62': 3, '292': 3, '241': 4, '1370': 4, '1384': 4, '458': 3, '459': 3, '461': 3, '1386': 4, '1365': 3, '1366': 3, '111': 3, '150': 3, '479': 3, '1182': -1}, '150': {'1074': 3, '1075': 3, '1062': -1}, '165': {'71': 1, '72': 1, '504': -1}, '14': {'64': 1, '65': 4, '496': -1}, '72': {'21': 2, '324': 2, '630': 2, '94': 3, '664': 3, '304': 3, '128': 4, '323': 4, '663': 4, '570': 3, '494': 3, '305': 4, '309': 4, '571': 4, '655': 4, '388': 4, '62': 4, '629': -1}, '153': {'1078': 3, '1083': 3, '1084': 3, '1080': 4, '1081': 4, '1082': 4, '1085': 3, '1063': -1}, '188': {'721': 2, '722': 2, '723': 2, '75': 3, '909': 3, '724': 4, '726': 4, '725': 2, '728': 2, '729': 2, '911': 2, '640': -1}, '52': {'21': 2, '22': 2, '306': 2, '326': 4, '528': -1}, '49': {'320': 3, '478': 4, '527': -1}, '117': {'360': 2, '605': 3, '896': -1}, '50': {'326': 2, '629': 2, '21': 4, '94': 4, '22': 4, '306': 4, '528': -1}, '176': {'582': 1, '583': 1, '584': 3, '585': 3, '978': 4, '586': 1, '982': 1, '542': -1}, '187': {'838': 3, '839': 3, '840': 3, '743': 4, '842': 3, '1045': 3, '763': -1}, '108': {'724': 2, '726': 2, '727': 2, '75': 3, '909': 3, '720': 4, '723': 4, '640': -1}, '204': {'572': 2, '1311': 2, '63': 3, '540': 3, '602': 4, '603': 4, '604': 4, '1305': 4, '1188': 4, '307': 4, '1213': 4, '655': 4, '1355': 4, '68': 4, '1285': -1}, '216': {'156': 1, '506': -1}, '161': {'54': 2, '1386': 2, '562': 3, '336': 3, '55': 4, '996': 4, '489': -1}, '185': {'858': 2, '859': 2, '857': 2, '1008': 3, '856': 3, '15': 4, '285': 4, '894': 4, '766': 2, '948': -1}, '87': {'606': 2, '611': 2, '562': 3, '50': 4, '236': 4, '609': 4, '612': 4, '406': 4, '547': -1}, '116': {'922': 1, '360': 3, '605': 3, '927': 3, '492': 4, '896': -1}, '102': {'728': 1, '913': 2, '910': 3, '911': 4, '729': -1}, '200': {'1134': 2, '1137': 2, '1138': 2, '1071': -1}, '131': {'1014': 2, '1020': 2, '1013': 3, '1016': 3, '1017': 3, '1012': 4, '1018': 3, '1019': 3, '950': -1}, '128': {'985': 3, '990': 3, '945': -1}, '186': {'1309': 3, '1378': 3, '923': 3, '161': 4, '421': 4, '1377': 4, '924': 3, '1062': 3, '1074': 3, '1379': 4, '1380': 4, '1075': 3, '225': 3, '1280': 3, '1305': 3, '1304': 3, '1188': -1}, '99': {'717': 2, '719': 2, '1001': 3, '1379': 3, '639': -1}, '171': {'252': 1, '431': 1, '141': 4, '516': -1}, '34': {'252': 1, '431': 3, '672': 3, '714': 3, '799': 3, '800': 3, '516': -1}, '119': {'926': 4, '897': -1}, '76': {'378': 2, '667': 2, '324': 3, '666': 3, '670': 3, '1391': 3, '329': 3, '630': -1}, '198': {'887': 2, '888': 2, '889': 2, '843': 3, '769': -1}, '55': {'16': 2, '375': 2, '460': 2, '378': 3, '255': 3, '271': 3, '376': 4, '377': 4, '562': 2, '502': 3, '538': -1}, '174': {'58': 1, '411': 1, '36': 2, '423': 4, '482': 1, '533': -1}, '123': {'966': 2, '967': 3, '941': -1}, '177': {'588': 2, '589': 2, '592': 3, '772': 3, '590': 4, '543': -1}, '56': {'380': 2, '749': 3, '1339': 3, '14': 4, '705': 4, '779': 4, '780': 4, '379': 4, '643': 4, '686': 4, '753': -1}, '4': {'236': 3, '166': 3, '488': -1}, '44': {'302': 3, '436': 3, '437': 4, '524': -1}, '83': {'680': 2, '681': 2, '682': 2, '683': 2, '633': -1}, '114': {'919': 1, '916': 2, '920': 3, '921': 3, '895': -1}, '93': {'691': 3, '635': -1}, '183': {'803': 1, '808': 1, '802': 2, '807': 3, '811': 3, '253': 3, '804': 4, '805': 4, '806': 4, '809': 1, '810': 4, '1243': 4, '1247': 4, '758': -1}, '143': {'1043': 1, '1044': 1, '954': -1}, '190': {'15': 1, '391': 1, '285': 2, '390': 3, '864': 3, '894': -1}, '45': {'305': 2, '570': 2, '308': 3, '481': 3, '338': 3, '1226': 4, '1355': 4, '1185': 3, '629': 3, '663': 3, '798': 3, '572': 3, '525': -1}, '40': {'24': 2, '283': 2, '552': 2, '272': 3, '976': 3, '557': 4, '558': 4, '553': 2, '554': 2, '555': 2, '556': 2, '536': -1}, '60': {'475': 2, '476': 3, '527': 3, '320': 4, '478': 4, '322': -1}, '213': {'888': 1, '885': 2, '887': 2, '889': 2, '1178': 3, '769': 3, '1173': 3, '1177': 4, '886': 3, '890': 3, '843': 3, '1146': -1}, '80': {'594': 1, '597': 1, '596': 3, '598': 3, '544': -1}, '154': {'1087': 2, '1088': 3, '1063': -1}, '71': {'569': 1, '571': 1, '1355': 2, '101': 3, '655': 3, '1213': 3, '798': 4, '572': 1, '540': -1}, '22': {'68': 1, '502': -1}, '96': {'703': 3, '704': 3, '705': 3, '698': 4, '699': 4, '700': 4, '1289': 3, '779': 3, '701': 4, '702': 4, '706': 4, '792': 4, '1339': 4, '637': -1}, '18': {'196': 2, '197': 2, '198': 2, '498': -1}, '152': {'1076': 1, '1077': 3, '569': 3, '572': 3, '687': 4, '655': 3, '1062': -1}, '98': {'713': 2, '708': 4, '709': 4, '711': 4, '712': 4, '638': -1}, '156': {'983': 1, '1102': 1, '1097': 2, '1100': 2, '274': 2, '1096': 3, '1098': 3, '1099': 3, '1103': 4, '982': 4, '1104': 1, '553': 2, '1101': 3, '82': 3, '1065': -1}, '88': {'613': 2, '614': 2, '615': 2, '616': 3, '617': 3, '618': 4, '548': -1}, '146': {'840': 1, '1045': 3, '955': -1}, '69': {'458': 2, '570': 2, '977': 3, '62': 3, '336': 4, '540': -1}, '196': {'51': 2, '185': 2, '874': 2, '878': 3, '879': 3, '880': 3, '12': 4, '875': 2, '876': 2, '202': 3, '746': 3, '13': 3, '184': -1}, '162': {'111': 1, '155': 1, '460': 2, '461': 2, '54': 3, '562': 3, '458': 1, '459': 1, '489': -1}, '59': {'788': 2, '785': 3, '786': 3, '787': 3, '754': -1}, '195': {'739': 3, '742': 3, '743': 3, '642': -1}, '74': {'576': 2, '656': 2, '575': 3, '317': 4, '574': 4, '578': 4, '541': -1}, '158': {'302': 1, '1011': 1, '552': 2, '998': 3, '1009': 3, '1010': 3, '273': 4, '556': 4, '1006': -1}, '27': {'224': 2, '278': 3, '428': 3, '512': -1}, '167': {'274': 2, '82': 3, '509': -1}, '53': {'296': 3, '33': 3, '446': 4, '447': 4, '448': 4, '449': 4, '208': 4, '297': 4, '298': 4, '299': 4, '531': -1}, '184': {'32': 3, '67': 3, '715': 3, '717': 4, '716': 3, '499': 3, '1379': 3, '639': -1}, '39': {'272': 1, '555': 1, '24': 2, '283': 2, '552': 2, '79': 3, '207': 3, '418': 3, '557': 4, '554': 2, '556': 2, '505': 3, '1257': 3, '536': -1}, '175': {'351': 2, '966': 2, '967': 2, '964': 3, '965': 3, '941': -1}, '5': {'552': 1, '401': 3, '1297': 3, '1296': 1, '488': -1}, '222': {'400': 3, '419': 3, '1387': 3, '412': 4, '1392': 4, '1398': 4, '1397': 3, '1400': 3, '1399': 4, '1396': -1}, '159': {'234': 3, '1108': 3, '1110': 3, '1114': 4, '1115': 4, '1111': 3, '1112': 3, '231': 3, '1066': -1}, '111': {'15': 2, '391': 2, '864': 2, '914': 3, '392': 3, '627': 3, '658': 3, '894': -1}, '208': {'163': 3, '1344': 3, '1345': 3, '164': 4, '1347': 4, '1346': 3, '1291': -1}, '94': {'24': 1, '283': 3, '294': 3, '559': 3, '689': 4, '690': 4, '101': 4, '1393': 3, '354': 4, '1104': 4, '1161': 4, '1395': 4, '635': -1}, '1': {'184': 2, '29': 2, '31': 2, '12': 3, '51': 3, '102': 3, '13': 4, '14': 4, '15': 4, '57': 2, '378': 2, '859': 2, '185': 3, '30': 3, '37': 3, '52': 4, '142': 4, '195': 4, '875': 2, '56': 3, '66': 3, '95': 3, '462': 4, '497': 3, '858': 3, '876': 3, '879': 3, '880': 3, '486': -1}, '109': {'860': 1, '861': 1, '606': 3, '980': 3, '12': 3, '766': -1}, '209': {'1351': 2, '1356': 2, '1350': 3, '187': 3, '487': 3, '45': 4, '55': 4, '316': 4, '1383': 3, '1385': 3, '1106': 4, '1228': 4, '1292': -1}, '201': {'552': 2, '625': 2, '1296': 2, '93': 3, '1151': 3, '401': 3, '110': 4, '1391': 4, '423': 4, '541': 3, '1295': 3, '318': 3, '1304': 4, '160': 4, '369': 4, '482': 4, '1140': -1}, '181': {'973': 2, '974': 2, '409': 2, '997': 3, '1061': 3, '942': -1}, '64': {'390': 1, '391': 2, '627': -1}, '110': {'862': 1, '863': 1, '31': 3, '1174': 4, '766': -1}, '107': {'725': 2, '728': 2, '729': 3, '911': 3, '720': 4, '75': 4, '909': 4, '640': -1}, '62': {'566': 1, '567': 2, '1084': 2, '1078': 3, '1081': 3, '539': -1}, '79': {'597': 3, '598': 3, '688': 4, '708': 4, '713': 4, '544': -1}, '13': {'64': 2, '265': 2, '65': 4, '311': 4, '496': -1}, '28': {'224': 3, '279': 3, '512': -1}, '105': {'848': 3, '844': 4, '845': 4, '846': 4, '847': 4, '764': -1}, '142': {'1042': 1, '954': -1}, '205': {'1321': 2, '1322': 2, '1287': -1}, '127': {'101': 2, '164': 2, '981': 3, '982': 4, '983': 4, '944': -1}, '29': {'250': 2, '514': 2, '609': 2, '225': 3, '793': 3, '464': 4, '465': 4, '612': 2, '466': 4, '513': -1}, '180': {'622': 2, '619': 3, '620': 3, '621': 3, '617': 4, '616': 4, '1150': 4, '548': -1}, '90': {'794': 2, '797': 2, '798': 2, '793': 3, '796': 3, '291': 3, '800': 4, '1187': 4, '256': 2, '311': 3, '335': 3, '1364': 3, '1367': 4, '757': -1}, '7': {'20': 2, '56': 3, '57': 3, '58': 3, '19': 4, '492': -1}, '138': {'846': 1, '1036': 1, '953': -1}, '121': {'885': 1, '886': 1, '1146': 2, '887': 1, '888': 1, '890': 1, '891': 1, '769': -1}, '23': {'900': 1, '902': 1, '200': 2, '201': 2, '601': 2, '899': 3, '903': 3, '593': 3, '199': 4, '594': 4, '901': 2, '544': 2, '597': 2, '749': 3, '917': 3, '919': 3, '1333': 4, '634': 2, '687': 2, '698': 2, '1290': 3, '700': 2, '704': 2, '705': 2, '1109': 2, '1112': 2, '1141': 2, '1197': 2, '1256': 2, '1259': 2, '1272': 2, '1289': 2, '892': -1}, '78': {'588': 2, '589': 3, '590': 3, '543': -1}, '129': {'985': 2, '987': 2, '984': 3, '988': 3, '989': 3, '986': 4, '990': 3, '945': -1}, '58': {'788': 2, '785': 3, '786': 3, '787': 3, '23': 4, '381': 4, '382': 4, '784': 4, '789': 4, '754': -1}, '51': {'94': 1, '23': 2, '105': 2, '381': 2, '192': 3, '326': 4, '63': 4, '494': 2, '629': 2, '261': 4, '528': -1}, '224': {'656': 3, '1313': 3, '1317': 3, '1316': 4, '1318': 3, '1319': 3, '1157': 3, '1274': 3, '1286': -1}, '33': {'252': 3, '431': 3, '141': 4, '516': -1}, '151': {'687': 2, '1076': 2, '1074': 3, '1075': 4, '1077': 4, '1062': -1}}\n"
          ]
        }
      ]
    },
    {
      "cell_type": "code",
      "source": [
        "def readQuery(src):\n",
        "  qry = {}\n",
        "  r = open(src)\n",
        "  for s in r:\n",
        "    s = s.strip()\n",
        "    ps = s.split(\"\\t\")\n",
        "    terms = []\n",
        "    for sent in sent_tokenize(ps[1]):\n",
        "      for tok in word_tokenize(sent):\n",
        "        tok = preprocess(tok)\n",
        "        if tok != None:\n",
        "          terms.append(tok)\n",
        "    qry[ps[0]] = \" \".join(terms)\n",
        "  return qry"
      ],
      "metadata": {
        "id": "8BZA5SN_DxLU"
      },
      "execution_count": 9,
      "outputs": []
    },
    {
      "cell_type": "code",
      "source": [
        "Queries = readQuery(\"Cranfield/query.txt\")\n",
        "print(Queries)"
      ],
      "metadata": {
        "colab": {
          "base_uri": "https://localhost:8080/"
        },
        "id": "YdmgbLlzEZbv",
        "outputId": "1cc995a7-3f0b-4871-b1a4-fa3699fc6249"
      },
      "execution_count": 10,
      "outputs": [
        {
          "output_type": "stream",
          "name": "stdout",
          "text": [
            "{'1': 'similar law must obey construct aeroelast model heat high speed aircraft', '2': 'structur aeroelast problem associ flight high speed aircraft', '3': 'problem heat conduct composit slab solv far', '4': 'criterion develop show empir valid flow solut chemic react ga mixtur base simplifi assumpt instantan local chemic equilibrium', '5': 'chemic kinet system applic hyperson aerodynam problem', '6': 'theoret experiment guid turbul couett flow behaviour', '7': 'possibl relat avail pressur distribut ogiv forebodi zero angl attack lower surfac pressur equival ogiv forebodi angl attack', '8': 'method -dash exact approxim -dash present avail predict bodi pressur angl attack', '9': 'paper intern /slip flow/ heat transfer studi', '10': 'real-ga transport properti air avail wide rang enthalpi densiti', '11': 'possibl find analyt similar solut strong blast wave problem newtonian approxim', '12': 'aerodynam perform channel flow ground effect machin calcul', '13': 'basic mechan transon aileron buzz', '14': 'paper shock-sound wave interact', '15': 'materi properti photoelast materi', '16': 'transvers potenti flow bodi revolut calcul effici electron comput', '17': 'three-dimension problem transvers potenti flow bodi revolut reduc two-dimension problem', '18': 'experiment pressur distribut bodi revolut angl attack avail', '19': 'exist good basic treatment dynam re-entri combin consider realist effect rel simplic result', '20': 'anyon formal determin influenc joul heat produc induc current magnetohydrodynam free convect flow gener condit', '21': 'compress transform fail correl high speed data helium air', '22': 'anyon els discov turbul skin friction sensit natur variat viscos temperatur', '23': 'progress made research unsteadi aerodynam', '24': 'factor influenc time requir invert larg structur matric', '25': 'practic flow follow theoret concept interact adjac blade row superson cascad', '26': 'singl approxim formula displac thick laminar boundari layer compress flow flat plate', '27': 'design ring part ring wing linear theori affect thick', '28': 'applic linear theori design curv wing', '29': 'effect cross section shape flow simpl delta wing sharp lead edg', '30': 'paper flow visual slender conic wing', '31': 'size end plate safe use simul two-dimension flow condit bluff cylindr bodi finit aspect ratio', '32': 'find approxim correct thick slender thin-w theori', '33': 'interference-fre longitudin stabil measur ( made use free-flight model ) compar similar measur made low-blockag wind tunnel', '34': 'wind tunnel interfer effect investig systemat basi', '35': 'paper deal acoust wave propag react gase', '36': 'anyon investig relax effect gaseou heat transfer suddenli heat wall', '37': 'theoret method predict base pressur', '38': 'transit hyperson wake depend bodi geometri size', '39': 'one detect transit phenomena boundari layer', '40': 'one detect transit phenomena hyperson wake', '41': 'anyon investig develop simpl model vortex wake behind cruciform wing', '42': 'criterion transon flow around airfoil round lead edg validli analyz linear transon flow theori', '43': 'transon flow around arbitrari smooth thin airfoil analys simpl approxim way', '44': 'detail rigor kinet theori gase ( chapman-enskog theori )', '45': 'anyon investig effect surfac mass transfer hyperson viscou interact', '46': 'combin effect surfac heat mass transfer hyperson flow', '47': 'exist solut hyperson viscou interact insul flat plate', '48': 'control leading-edg attach transon speed', '49': 'three-point boundary-valu problem blasiu equat integr numer use suitabl transform without iter boundari condit', '50': 'effect small amount ga rarefact characterist boundari layer slender bodi revolut', '51': 'avail inform pertain boundari layer slender bodi revolut continuum flow ( transvers curvatur effect )', '52': 'avail inform pertain effect slight rarefact boundari layer flow ( slip effect )', '53': 'investig made flow field bodi move rarefi partial ioniz ga presenc magnet field', '54': 'heat transfer downstream mass transfer region effect mass transfer nose blunt cone', '55': 'extent avail inform incompress boundari layer appli problem involv compress boundari layer', '56': 'extent readili avail steady-st aerodynam data util predict lifting-surfac flutter characterist', '57': 'signific steadi non-steadi flow characterist affect flutter mechan', '58': 'possibl determin rate forc convect heat transfer heat cylind non-circular cross-sect ( fluid flow along gener )', '59': 'much known boundari layer flow along non-circular cylind', '60': 'simpl practic method numer integr mix problem ( i.e blasiu problem three-point boundari condit )', '61': 'exist closed-form express local heat transfer around yaw cylind', '62': 'far around cylind condit flow veloc outsid boundari layer linear function distanc around cylind', '63': 'find pressur data surfac swept cylind', '64': \"ca n't static deflect shape use predict flutter place vibrat shape provid justif mean exampl\", '65': 'boundari layer flat plate shear flow induc pressur gradient', '66': 'procedur match inner outer solut viscou flow problem appli main stream shear flow', '67': 'seri expans found boundari layer flat plate shear flow', '68': 'possibl techniqu avail comput inject distribut correspond isotherm transpir cool hemispher', '69': 'known regard asymptot solut exact boundari layer equat', '70': 'previou solut boundari layer similar equat', '71': 'experiment result hyperson viscou interact', '72': 'done viscou interact rel low reynold number flow particularli high mach number', '73': 'role effect chemic reaction ( particularli equilibrium ) play similitud law govern hyperson flow slender aerodynam bodi', '74': 'signific possibl pressur dissoci free stream respect realiz hyperson simul high enthalpi wind tunnel', '75': 'discrep among current analys vortic effect stagnation-point heat transfer result primarili differ viscosity-temperatur law assum', '76': 'far one trust linear viscosity-temperatur solut assum analys hyperson shock layer low reynold number', '77': 'close comparison shock layer theori exist experi low reynold number ( merged-lay ) regim', '78': 'anyon explain kink surg line multi-stag axial compressor', '79': 'aerodynam deriv measur hyperson mach number comparison made theoret work', '80': 'method measur aerodynam deriv avail could adopt use short run time facil', '81': 'wind-tunnel correct two-dimension aerofoil mount off-centr tunnel', '82': \"kuchemann 's multhopp 's method calcul lift distribut swept wing subson flow compar experi\", '83': 'present state theori quasi-con flow', '84': 'refer method avail accur estim aerodynam heat transfer conic bodi laminar turbul flow', '85': 'paramet serious influenc natur transit laminar turbul flow model wind tunnel', '86': 'satisfactori experiment techniqu develop measur oscillatori deriv slender sting-mount model superson wind tunnel', '87': 'effect boundari layer modifi basic inviscid flow behind shock neglect effect lead edg corner', '88': 'satellit orbit contract action air drag atmospher scale height vari altitud', '89': 'flow transon speed delta wing differ closely-rel taper sweptback wing', '90': 'recent data shock-induc boundary-lay separ', '91': 'interfer effect like transon speed', '92': 'given complet freedom design airplan procedur would use order minim sonic boom intens limit degre minim accomplish', '93': 'methane-air combust product use hyperson test medium predict within experiment accuraci result obtain air', '94': 'theoret heat transfer rate stagnat point blunt bodi', '95': 'theoret heat transfer distribut around hemispher', '96': 'anyon investig unsteadi lift distribut finit wing subson flow', '97': 'inform avail dynam respons airplan gust blast subson regim', '98': 'forward apex locat control effect low subson speed compar convent trailing-edg flap', '99': 'given uncontrol vehicl tumbl enter atmospher possibl predict stop tumbl subsequ motion', '100': 'effect initi imperfect elast buckl cylindr shell axial compress', '101': 'increment theori deform theori plastic stress-strain relationship differ greatli appli stabil problem', '102': 'basic dynam characterist structur continu mani span', '103': 'inform buckl sandwich sphere avail', '104': 'load deform characterist beam obtain materi inelast non uniform temperatur present', '105': 'effect intern liquid column breath vibrat cylindr shell', '106': 'experiment techniqu shell vibrat', '107': 'summar theoret experiment work behaviour typic aircraft structur nois environ possibl develop design procedur', '108': 'data fatigu structur acoust load', '109': 'panel subject aerodynam heat', '110': 'increas edg load plate beyond critic valu buckl chang buckl mode', '111': 'effect elast edg restraint consid previou paper panel flutter', '112': 'solut clamp plate problem classic theori bend reduc two success membran boundari valu problem', '113': 'data exist oscillatori aerodynam forc control surfac transon mach number', '114': 'like airforc wing gener planform oscil transon flow determin pure analyt method possibl determin airforc singl particular planform rectangular one method', '115': 'problem similar repres investig aeroelast effect heat flow intract previou investig impli', '116': 'magnitud distribut lift cone cylindr portion cone-cylind configur', '117': 'inform addit /boat-tail/ affect normal forc bodi variou angl incid', '118': 'aerodynam interfer effect fin lift bodi lift fin-bodi combin', '119': 'effect initi axisymmetr deviat circular non linear ( large-deflect ) load-deflect respons cylind hydrostat pressur', '120': 'previou analys circumferenti thermal buckl circular cylindr shell unnecessarili involv even inaccur due assum form buckl mode', '121': 'paper deal circumferenti buckl either thermal buckl due mechan load', '122': 'analyt investig made stabil conic shell result compar experi', '123': 'work done determin natur compress viscou flow straight channel', '124': 'area low densiti wind tunnel flow viscou compress flow slender channel problem analyt investig made stabil conic shell result compar experi', '125': 'jet interfer superson flow -dash experiment paper', '126': 'thrust vector control fluid inject -dash paper', '127': 'possibl obtain reason simpl analyt solut heat equat exponenti ( time ) heat input', '128': 'anyon program pump design method high-spe digit comput', '129': 'anyon deriv simplifi pump design equat fundament three-dimension equat incompress nonvisc flow', '130': 'flutter characterist expos skin panel x-15 vertic stabil subject aerodynam heat', '131': 'agreement found theoret predict instabl time experiment measur collaps time compress column creep', '132': 'theoret studi creep buckl', '133': 'experiment studi creep buckl', '134': 'possibl correl result creep buckl wide differ structur within framework singl theori', '135': 'experiment result creep buckl column', '136': 'result creep buckl round tube extern pressur', '137': 'analyt studi conduct time-to-failur mechan associ creep collaps long circular cylindr shell exhibit primari secondari creep well elast deform variou distribut forc system', '138': 'effect initi stress frequenc vibrat circular cylindr shell investig', '139': 'effect chang initi pressur due deform frequenc vibrat circular cylindr shell investig', '140': 'discontinu stress junction pressur structur', '141': 'analyt solut avail stress edge-load shell revolut', '142': 'dome contour minim discontinu stress use closur cylindr pressur vessel', '143': 'gener solut stress pressur shell revolut avail', '144': 'studi pure membran cylind wall bend stiff maintain shape virtu intern pressur provid insight behaviour pressur cylind finit wall stiff', '145': 'best experiment data classic small deflect theori analys avail pressur cylind bend', '146': 'membran theori exist behaviour pressur membran cylind bend predict', '147': 'equat defin stabil simpli support corrug core sandwich cylind', '148': 'paper small deflect theori buckl sandwich cylind', '149': 'anyon develop analysi accur establish larg deflect behaviour conic shell', '150': 'magnitud second-ord wing-bodi interfer high superson mach number', '151': 'best theoret method calcul pressur surfac wing alon', '152': 'effect boundary-lay wing pressur calcul magnitud', '153': 'navier-stok differ equat solv', '154': 'iter method solv linear ellipt differ equat rapidli converg', '155': 'technic report measur ablat flight', '156': 'qualit quantit materi avail ablat materi research', '157': 'flow field calcul blunt-nos bodi compar experi wide rang free stream condit bodi shape', '158': 'avail properti high-temperatur air', '159': 'magnitud aerodynam damp flexibl vibrat mode slender bodi revolut characterist launch vehicl', '160': 'compress circumferenti stress torispher shell reveal possibl buckl intern pressur anyon investig rang shell paramet stress suffici larg caus elast buckl', '161': 'integr method give singl suffici accur method calcul laminar separ point variou incompress compress boundari layer zero heat transfer', '162': 'accur exact solut laminar separ point variou incompress compress boundari layer zero heat transfer avail', '163': 'hyperson similar result appli techniqu predict surfac pressur ogiv forebodi angl attack', '164': 'determin onset shock-induc boundary-lay separ', '165': 'stabl profil compress boundari layer induc move wave known', '166': 'experiment result stabil compress boundari layer induc move wave', '167': 'exact solut method calcul abl mass loss materi ablat high temperatur hyperson flight environ', '168': 'approxim solut known direct problem transon flow throat nozzl i.e find flow given nozzl', '169': 'approxim solut known indirect problem transon flow throat nozzl i.e find nozzl given axial veloc distribut', '170': 'user orthodox pitot-stat tube often find calibr appear - ( ) significantli differ formerli specifi ( b ) wildli variabl low reynold number', '171': 'comparison made interference-fre drag measur use free-flight model similar measur made low-blockag wind tunnel', '172': 'solut blasiu problem three-point boundari condit', '173': \"refer lyapunov 's method stabil linear differenti equat period coeffici\", '174': 'obtain paper report contain shock detach distanc data', '175': 'work flow channel low reynold number', '176': \"approxim analyt heat conduct solut use method biot 's principl\", '177': 'mode stall expect stage axial compressor', '178': 'criterion establish determin axial compressor choke line', '179': 'theori quasi-con flow develop superson linearis theori upwash distribut lift surfac apart homogen function co-ordin permit quit gener function form', '180': 'scale height vari altitud atmospher', '181': 'jet interfer superson flow theoret paper', '182': 'effect leading-edg blunt flutter characterist square-planform double-wedg airfoil mach number less 15.4', '183': 'factor shown primari influenc sonic boom strength', '184': 'work small-oscil re-entri motion', '185': 'experiment studi panel flutter', '186': 'wing-bodi flow field interfer effect approxim ration', '187': 'anyon analyt experiment investig effect intern pressur buckl circular-cylindr shell bend', '188': 'theoret experiment work done excit respons typic structur nois environ', '189': 'design method calcul thermal fatigu endur compon variou type size varieti circumst', '190': 'analysi panel flutter base arbitrarili assum mode deform prove satisfactori minimum number mode need consid', '191': 'criterion true panel flutter oppos small amplitud vibrat aris acoust disturb', '192': 'paper deal uniformli load sector', '193': 'gener method solv clamp plate problem', '194': 'analyt solut buckl strength uniform circular cylind load axial compress refin lower buckl load', '195': 'problem buckl strength uniform circular cylind load axial compress linear solut help improv non-linear one', '196': 'problem similar repres investig aeroelast effect flow absenc heat effect', '197': 'fatigu damag estim use normal long-hand method', '198': 'inform avail differ effect variou edg condit buckl cylindr shell', '199': 'non-linear larg deflect analys conduct shell shape conic', '200': 'asymptot method suffici accur determin pre-buckl stress torispher shell must resort numer method', '201': 'nonequilibrium chemic constitu viscou shock layer ahead blunt re-entri vehicl', '202': 'accur exist analyt theori estim pressur distribut cone incid hyperson speed', '203': 'simpl empir method use estim pressur distribut cone', '204': 'viscou effect serious modifi pressur distribut', '205': 'anyon investig theoret whether surfac flexibl stabil laminar boundari layer', '206': 'subson transon flutter data measur new langley transon dynam tunnel compar similar data obtain facil', '207': 'larg chang new mass ratio quantit affect wing-flutt boundari', '208': 'effect shape drag polar lift spacecraft amount reduct maximum deceler obtain continu vari aerodynam coeffici re-entri', '209': 'physic signific characterist separ laminar turbul boundari layer flow', '210': 'anyon analyt investig stabil influenc soft elast core buckl strength cylindr shell subject non-uniform extern pressur', '211': 'paper avail buckl empti cylindr shell non-uniform pressur', '212': 'effect thermal stress compress buckl strength ring-stiffen cylind', '213': 'effect cylind buckl circumferenti stress system vari axial direct', '214': 'non-linear shallow shell analysi reduc engin techniqu use matrix', '215': 'possibl predict shape shroud allow simul nose region flow field sphere hyperson flow', '216': 'investig made wave system creat static pressur distribut liquid surfac', '217': 'anyon investig effect shock gener vortic heat transfer blunt bodi', '218': 'heat transfer blunt bodi absenc vortic', '219': 'gener effect flow field reynold number small', '220': 'find calcul procedur applic incompress laminar boundari layer flow problem good accuraci reason comput time', '221': 'paper applic problem ( calcul procedur laminar incompress flow arbitrari pressur gradient )', '222': 'anyon investig shear buckl stiffen plate', '223': 'paper shear buckl unstiffen rectangular plate shear', '224': 'practic close realiti assumpt flow hyperson shock tube use nitrogen non-visc thermodynam equilibrium', '225': 'design factor use control lift-drag ratio mach number'}\n"
          ]
        }
      ]
    },
    {
      "cell_type": "code",
      "source": [
        "def processQueries(ind, qry):\n",
        "\n",
        "  idx = index.open_dir(ind)\n",
        "  searcher = idx.searcher(weighting=scoring.BM25F())\n",
        "  parser = qparser.QueryParser(\"content\", idx.schema, group=qparser.OrGroup)\n",
        "\n",
        "  RET = {}\n",
        "  for key in qry:\n",
        "    query = parser.parse(qry[key])\n",
        "    results = searcher.search(query, limit=None)\n",
        "    rel = {}\n",
        "    for i in range(len(results)):\n",
        "      rel[results[i][\"docid\"]] = results[i].score\n",
        "    RET[key] = rel\n",
        "  return RET"
      ],
      "metadata": {
        "id": "QKJmBLZiErkz"
      },
      "execution_count": 11,
      "outputs": []
    },
    {
      "cell_type": "code",
      "source": [
        "RunResults = processQueries(\"ind\", Queries)"
      ],
      "metadata": {
        "id": "Cq5LcDwdJEWZ"
      },
      "execution_count": 12,
      "outputs": []
    },
    {
      "cell_type": "markdown",
      "source": [
        "***3) Tính chỉ số***\n",
        "- Sử dụng đối tượng thuộc lớp RelevanceEvaluator từ package pytrec_eval.\n",
        "- Tính chỉ số MAP (\"intAP\") và MAPint (\"11pt_avg\")"
      ],
      "metadata": {
        "id": "foAJFGhXZEkj"
      }
    },
    {
      "cell_type": "code",
      "source": [
        "print(pytrec_eval.supported_measures)\n",
        "eval = pytrec_eval.RelevanceEvaluator(GroundTruth, [\"infAP\", \"11pt_avg\"])\n",
        "Results = eval.evaluate(RunResults)\n",
        "\n",
        "MAP = 0\n",
        "MAP11PT = 0\n",
        "\n",
        "for key in Results:\n",
        "  value = Results[key][\"infAP\"]\n",
        "  if not math.isnan(value):\n",
        "    MAP += value\n",
        "  value = Results[key][\"11pt_avg\"]\n",
        "  if not math.isnan(value):\n",
        "    MAP11PT += value\n",
        "\n",
        "MAP /= len(Results)\n",
        "MAP11PT /= len(Results)\n",
        "\n",
        "print(MAP, MAP11PT)"
      ],
      "metadata": {
        "colab": {
          "base_uri": "https://localhost:8080/"
        },
        "id": "fw2C9nCPJZqQ",
        "outputId": "8b3125f2-5461-4245-b86e-eb243ced177d"
      },
      "execution_count": 13,
      "outputs": [
        {
          "output_type": "stream",
          "name": "stdout",
          "text": [
            "{'Rprec', 'map_cut', 'set_relative_P', 'gm_bpref', 'Rndcg', 'set_F', 'num_rel', 'num_q', 'ndcg', '11pt_avg', 'set_map', 'recip_rank', 'bpref', 'ndcg_rel', 'set_recall', 'recall', 'success', 'map', 'relstring', 'num_ret', 'utility', 'binG', 'P', 'gm_map', 'num_rel_ret', 'infAP', 'relative_P', 'ndcg_cut', 'set_P', 'num_nonrel_judged_ret', 'iprec_at_recall', 'G', 'Rprec_mult', 'runid'}\n",
            "0.35099879106595755 0.3218448003963703\n"
          ]
        }
      ]
    },
    {
      "cell_type": "markdown",
      "source": [
        "**II - STANZA (STANFORD CORENLP)**\n",
        "\n",
        "STANZA là phiên bản wrap của stanford corenlp trên Python. Stanza có thể được dùng để nhận dạng ranh giới câu, tách từ, gán nhãn từ loại, phân tích cú pháp cấu trúc ngữ đoạn và phân tích cú pháp phụ thuộc. Kết quả xử lý được đặt trong một đối tượng để từ đó truy xuất đến từng kết quả như mong muốn.\n",
        "\n",
        "***1) Cài đặt stanza***"
      ],
      "metadata": {
        "id": "NEjwNCNe7UFe"
      }
    },
    {
      "cell_type": "code",
      "source": [
        "%%capture\n",
        "!pip install stanza"
      ],
      "metadata": {
        "id": "2XSqcZMjuVhn"
      },
      "execution_count": null,
      "outputs": []
    },
    {
      "cell_type": "markdown",
      "source": [
        "***2) Khởi tạo đối tượng Pipeline***\n",
        "\n",
        "Đối tượng Pipeline có nhiệm vụ thực hiện các tác vụ đã được nêu ở trên. Pipeline có thể cài đặt cho một số ngôn ngữ, chẳng hạn tiếng Anh (chưa có tiếng Việt).\n",
        "\n",
        "Lưu ý, đối tượng Pipeline chỉ nên khởi tạo một lần, đối tượng này sẽ được sử dụng để xử lý khi cần."
      ],
      "metadata": {
        "id": "1f3oEe3A8QY_"
      }
    },
    {
      "cell_type": "code",
      "source": [
        "%%capture\n",
        "import stanza\n",
        "stanza.download('en')#, proxies=proxies)\n",
        "nlp = stanza.Pipeline('en')"
      ],
      "metadata": {
        "id": "lpg1piZKulBk"
      },
      "execution_count": null,
      "outputs": []
    },
    {
      "cell_type": "markdown",
      "source": [
        "***3) Xử lý với đối tượng Pipeline***\n",
        "\n",
        "Truyền một đoạn hoặc một văn bản cho đối tượng Pipeline. Kết quả là một tài liệu đã được xử lý gồm các câu."
      ],
      "metadata": {
        "id": "4JjmF44-9Gqo"
      }
    },
    {
      "cell_type": "code",
      "source": [
        "doc = nlp(\"I have a book.  It is an exellent book. President Abraham Lincoln had writtten fiction StarTrek in Houston, Texas.\")"
      ],
      "metadata": {
        "id": "XIVWpHqX7QS2"
      },
      "execution_count": null,
      "outputs": []
    },
    {
      "cell_type": "markdown",
      "source": [
        "Dùng thuộc tính constituency để lấy kết quả phân tích cú pháp cấu trúc ngữ đoạn"
      ],
      "metadata": {
        "id": "1kTNAA_d9shK"
      }
    },
    {
      "cell_type": "code",
      "source": [
        "doc.sentences[0].constituency"
      ],
      "metadata": {
        "colab": {
          "base_uri": "https://localhost:8080/"
        },
        "id": "NUOmNzu69_an",
        "outputId": "81695d9a-2e39-45d3-d74b-d3329641a8b4"
      },
      "execution_count": null,
      "outputs": [
        {
          "output_type": "execute_result",
          "data": {
            "text/plain": [
              "(ROOT (S (NP (PRP I)) (VP (VBP have) (NP (DT a) (NN book))) (. .)))"
            ]
          },
          "metadata": {},
          "execution_count": 26
        }
      ]
    },
    {
      "cell_type": "markdown",
      "source": [
        "Dùng thuộc tính dependencies để lấy kết quả phân tích cú pháp phụ thuộc"
      ],
      "metadata": {
        "id": "h0DtPwR4-G5o"
      }
    },
    {
      "cell_type": "code",
      "source": [
        "doc.sentences[2].dependencies"
      ],
      "metadata": {
        "colab": {
          "base_uri": "https://localhost:8080/"
        },
        "id": "NLIm_Pwc-PV6",
        "outputId": "68b53880-c485-4cde-fba8-4763c7c943e3"
      },
      "execution_count": null,
      "outputs": [
        {
          "output_type": "execute_result",
          "data": {
            "text/plain": [
              "[({\n",
              "    \"id\": 5,\n",
              "    \"text\": \"writtten\",\n",
              "    \"lemma\": \"writt\",\n",
              "    \"upos\": \"VERB\",\n",
              "    \"xpos\": \"VBN\",\n",
              "    \"feats\": \"Tense=Past|VerbForm=Part\",\n",
              "    \"head\": 0,\n",
              "    \"deprel\": \"root\",\n",
              "    \"start_char\": 70,\n",
              "    \"end_char\": 78\n",
              "  },\n",
              "  'nsubj',\n",
              "  {\n",
              "    \"id\": 1,\n",
              "    \"text\": \"President\",\n",
              "    \"lemma\": \"President\",\n",
              "    \"upos\": \"PROPN\",\n",
              "    \"xpos\": \"NNP\",\n",
              "    \"feats\": \"Number=Sing\",\n",
              "    \"head\": 5,\n",
              "    \"deprel\": \"nsubj\",\n",
              "    \"start_char\": 40,\n",
              "    \"end_char\": 49\n",
              "  }),\n",
              " ({\n",
              "    \"id\": 1,\n",
              "    \"text\": \"President\",\n",
              "    \"lemma\": \"President\",\n",
              "    \"upos\": \"PROPN\",\n",
              "    \"xpos\": \"NNP\",\n",
              "    \"feats\": \"Number=Sing\",\n",
              "    \"head\": 5,\n",
              "    \"deprel\": \"nsubj\",\n",
              "    \"start_char\": 40,\n",
              "    \"end_char\": 49\n",
              "  },\n",
              "  'flat',\n",
              "  {\n",
              "    \"id\": 2,\n",
              "    \"text\": \"Abraham\",\n",
              "    \"lemma\": \"Abraham\",\n",
              "    \"upos\": \"PROPN\",\n",
              "    \"xpos\": \"NNP\",\n",
              "    \"feats\": \"Number=Sing\",\n",
              "    \"head\": 1,\n",
              "    \"deprel\": \"flat\",\n",
              "    \"start_char\": 50,\n",
              "    \"end_char\": 57\n",
              "  }),\n",
              " ({\n",
              "    \"id\": 1,\n",
              "    \"text\": \"President\",\n",
              "    \"lemma\": \"President\",\n",
              "    \"upos\": \"PROPN\",\n",
              "    \"xpos\": \"NNP\",\n",
              "    \"feats\": \"Number=Sing\",\n",
              "    \"head\": 5,\n",
              "    \"deprel\": \"nsubj\",\n",
              "    \"start_char\": 40,\n",
              "    \"end_char\": 49\n",
              "  },\n",
              "  'flat',\n",
              "  {\n",
              "    \"id\": 3,\n",
              "    \"text\": \"Lincoln\",\n",
              "    \"lemma\": \"Lincoln\",\n",
              "    \"upos\": \"PROPN\",\n",
              "    \"xpos\": \"NNP\",\n",
              "    \"feats\": \"Number=Sing\",\n",
              "    \"head\": 1,\n",
              "    \"deprel\": \"flat\",\n",
              "    \"start_char\": 58,\n",
              "    \"end_char\": 65\n",
              "  }),\n",
              " ({\n",
              "    \"id\": 5,\n",
              "    \"text\": \"writtten\",\n",
              "    \"lemma\": \"writt\",\n",
              "    \"upos\": \"VERB\",\n",
              "    \"xpos\": \"VBN\",\n",
              "    \"feats\": \"Tense=Past|VerbForm=Part\",\n",
              "    \"head\": 0,\n",
              "    \"deprel\": \"root\",\n",
              "    \"start_char\": 70,\n",
              "    \"end_char\": 78\n",
              "  },\n",
              "  'aux',\n",
              "  {\n",
              "    \"id\": 4,\n",
              "    \"text\": \"had\",\n",
              "    \"lemma\": \"have\",\n",
              "    \"upos\": \"AUX\",\n",
              "    \"xpos\": \"VBD\",\n",
              "    \"feats\": \"Mood=Ind|Number=Sing|Person=3|Tense=Past|VerbForm=Fin\",\n",
              "    \"head\": 5,\n",
              "    \"deprel\": \"aux\",\n",
              "    \"start_char\": 66,\n",
              "    \"end_char\": 69\n",
              "  }),\n",
              " ({\n",
              "    \"id\": 0,\n",
              "    \"text\": \"ROOT\"\n",
              "  },\n",
              "  'root',\n",
              "  {\n",
              "    \"id\": 5,\n",
              "    \"text\": \"writtten\",\n",
              "    \"lemma\": \"writt\",\n",
              "    \"upos\": \"VERB\",\n",
              "    \"xpos\": \"VBN\",\n",
              "    \"feats\": \"Tense=Past|VerbForm=Part\",\n",
              "    \"head\": 0,\n",
              "    \"deprel\": \"root\",\n",
              "    \"start_char\": 70,\n",
              "    \"end_char\": 78\n",
              "  }),\n",
              " ({\n",
              "    \"id\": 5,\n",
              "    \"text\": \"writtten\",\n",
              "    \"lemma\": \"writt\",\n",
              "    \"upos\": \"VERB\",\n",
              "    \"xpos\": \"VBN\",\n",
              "    \"feats\": \"Tense=Past|VerbForm=Part\",\n",
              "    \"head\": 0,\n",
              "    \"deprel\": \"root\",\n",
              "    \"start_char\": 70,\n",
              "    \"end_char\": 78\n",
              "  },\n",
              "  'obj',\n",
              "  {\n",
              "    \"id\": 6,\n",
              "    \"text\": \"fiction\",\n",
              "    \"lemma\": \"fiction\",\n",
              "    \"upos\": \"NOUN\",\n",
              "    \"xpos\": \"NN\",\n",
              "    \"feats\": \"Number=Sing\",\n",
              "    \"head\": 5,\n",
              "    \"deprel\": \"obj\",\n",
              "    \"start_char\": 79,\n",
              "    \"end_char\": 86\n",
              "  }),\n",
              " ({\n",
              "    \"id\": 6,\n",
              "    \"text\": \"fiction\",\n",
              "    \"lemma\": \"fiction\",\n",
              "    \"upos\": \"NOUN\",\n",
              "    \"xpos\": \"NN\",\n",
              "    \"feats\": \"Number=Sing\",\n",
              "    \"head\": 5,\n",
              "    \"deprel\": \"obj\",\n",
              "    \"start_char\": 79,\n",
              "    \"end_char\": 86\n",
              "  },\n",
              "  'appos',\n",
              "  {\n",
              "    \"id\": 7,\n",
              "    \"text\": \"StarTrek\",\n",
              "    \"lemma\": \"StarTrek\",\n",
              "    \"upos\": \"PROPN\",\n",
              "    \"xpos\": \"NNP\",\n",
              "    \"feats\": \"Number=Sing\",\n",
              "    \"head\": 6,\n",
              "    \"deprel\": \"appos\",\n",
              "    \"start_char\": 87,\n",
              "    \"end_char\": 95\n",
              "  }),\n",
              " ({\n",
              "    \"id\": 9,\n",
              "    \"text\": \"Houston\",\n",
              "    \"lemma\": \"Houston\",\n",
              "    \"upos\": \"PROPN\",\n",
              "    \"xpos\": \"NNP\",\n",
              "    \"feats\": \"Number=Sing\",\n",
              "    \"head\": 5,\n",
              "    \"deprel\": \"obl\",\n",
              "    \"start_char\": 99,\n",
              "    \"end_char\": 106\n",
              "  },\n",
              "  'case',\n",
              "  {\n",
              "    \"id\": 8,\n",
              "    \"text\": \"in\",\n",
              "    \"lemma\": \"in\",\n",
              "    \"upos\": \"ADP\",\n",
              "    \"xpos\": \"IN\",\n",
              "    \"head\": 9,\n",
              "    \"deprel\": \"case\",\n",
              "    \"start_char\": 96,\n",
              "    \"end_char\": 98\n",
              "  }),\n",
              " ({\n",
              "    \"id\": 5,\n",
              "    \"text\": \"writtten\",\n",
              "    \"lemma\": \"writt\",\n",
              "    \"upos\": \"VERB\",\n",
              "    \"xpos\": \"VBN\",\n",
              "    \"feats\": \"Tense=Past|VerbForm=Part\",\n",
              "    \"head\": 0,\n",
              "    \"deprel\": \"root\",\n",
              "    \"start_char\": 70,\n",
              "    \"end_char\": 78\n",
              "  },\n",
              "  'obl',\n",
              "  {\n",
              "    \"id\": 9,\n",
              "    \"text\": \"Houston\",\n",
              "    \"lemma\": \"Houston\",\n",
              "    \"upos\": \"PROPN\",\n",
              "    \"xpos\": \"NNP\",\n",
              "    \"feats\": \"Number=Sing\",\n",
              "    \"head\": 5,\n",
              "    \"deprel\": \"obl\",\n",
              "    \"start_char\": 99,\n",
              "    \"end_char\": 106\n",
              "  }),\n",
              " ({\n",
              "    \"id\": 11,\n",
              "    \"text\": \"Texas\",\n",
              "    \"lemma\": \"Texas\",\n",
              "    \"upos\": \"PROPN\",\n",
              "    \"xpos\": \"NNP\",\n",
              "    \"feats\": \"Number=Sing\",\n",
              "    \"head\": 9,\n",
              "    \"deprel\": \"appos\",\n",
              "    \"start_char\": 108,\n",
              "    \"end_char\": 113\n",
              "  },\n",
              "  'punct',\n",
              "  {\n",
              "    \"id\": 10,\n",
              "    \"text\": \",\",\n",
              "    \"lemma\": \",\",\n",
              "    \"upos\": \"PUNCT\",\n",
              "    \"xpos\": \",\",\n",
              "    \"head\": 11,\n",
              "    \"deprel\": \"punct\",\n",
              "    \"start_char\": 106,\n",
              "    \"end_char\": 107\n",
              "  }),\n",
              " ({\n",
              "    \"id\": 9,\n",
              "    \"text\": \"Houston\",\n",
              "    \"lemma\": \"Houston\",\n",
              "    \"upos\": \"PROPN\",\n",
              "    \"xpos\": \"NNP\",\n",
              "    \"feats\": \"Number=Sing\",\n",
              "    \"head\": 5,\n",
              "    \"deprel\": \"obl\",\n",
              "    \"start_char\": 99,\n",
              "    \"end_char\": 106\n",
              "  },\n",
              "  'appos',\n",
              "  {\n",
              "    \"id\": 11,\n",
              "    \"text\": \"Texas\",\n",
              "    \"lemma\": \"Texas\",\n",
              "    \"upos\": \"PROPN\",\n",
              "    \"xpos\": \"NNP\",\n",
              "    \"feats\": \"Number=Sing\",\n",
              "    \"head\": 9,\n",
              "    \"deprel\": \"appos\",\n",
              "    \"start_char\": 108,\n",
              "    \"end_char\": 113\n",
              "  }),\n",
              " ({\n",
              "    \"id\": 5,\n",
              "    \"text\": \"writtten\",\n",
              "    \"lemma\": \"writt\",\n",
              "    \"upos\": \"VERB\",\n",
              "    \"xpos\": \"VBN\",\n",
              "    \"feats\": \"Tense=Past|VerbForm=Part\",\n",
              "    \"head\": 0,\n",
              "    \"deprel\": \"root\",\n",
              "    \"start_char\": 70,\n",
              "    \"end_char\": 78\n",
              "  },\n",
              "  'punct',\n",
              "  {\n",
              "    \"id\": 12,\n",
              "    \"text\": \".\",\n",
              "    \"lemma\": \".\",\n",
              "    \"upos\": \"PUNCT\",\n",
              "    \"xpos\": \".\",\n",
              "    \"head\": 5,\n",
              "    \"deprel\": \"punct\",\n",
              "    \"start_char\": 113,\n",
              "    \"end_char\": 114\n",
              "  })]"
            ]
          },
          "metadata": {},
          "execution_count": 27
        }
      ]
    },
    {
      "cell_type": "markdown",
      "source": [
        "Mỗi câu có nhiều từ, để truy xuất đến từ, từ gốc và nhãn từ loại thì dùng các thuộc tính text, lemma và xpos"
      ],
      "metadata": {
        "id": "7oUCIuzg-19R"
      }
    },
    {
      "cell_type": "code",
      "source": [
        "doc.sentences[2].entities\n"
      ],
      "metadata": {
        "colab": {
          "base_uri": "https://localhost:8080/"
        },
        "id": "EPGf0sLsDC-i",
        "outputId": "32cf3fb8-663f-4bab-d2c1-8605e1ea4beb"
      },
      "execution_count": null,
      "outputs": [
        {
          "output_type": "execute_result",
          "data": {
            "text/plain": [
              "[{\n",
              "   \"text\": \"Abraham Lincoln\",\n",
              "   \"type\": \"PERSON\",\n",
              "   \"start_char\": 50,\n",
              "   \"end_char\": 65\n",
              " },\n",
              " {\n",
              "   \"text\": \"StarTrek\",\n",
              "   \"type\": \"WORK_OF_ART\",\n",
              "   \"start_char\": 87,\n",
              "   \"end_char\": 95\n",
              " },\n",
              " {\n",
              "   \"text\": \"Houston\",\n",
              "   \"type\": \"GPE\",\n",
              "   \"start_char\": 99,\n",
              "   \"end_char\": 106\n",
              " },\n",
              " {\n",
              "   \"text\": \"Texas\",\n",
              "   \"type\": \"GPE\",\n",
              "   \"start_char\": 108,\n",
              "   \"end_char\": 113\n",
              " }]"
            ]
          },
          "metadata": {},
          "execution_count": 28
        }
      ]
    },
    {
      "cell_type": "code",
      "source": [
        "for word in doc.sentences[0].words:\n",
        "  print(word.text, word.lemma, word.xpos)\n"
      ],
      "metadata": {
        "colab": {
          "base_uri": "https://localhost:8080/"
        },
        "id": "c0-9nEErrARF",
        "outputId": "a4513b3b-de57-411c-d806-e2b230ddb27b"
      },
      "execution_count": null,
      "outputs": [
        {
          "output_type": "stream",
          "name": "stdout",
          "text": [
            "I I PRP\n",
            "have have VBP\n",
            "a a DT\n",
            "book book NN\n",
            ". . .\n"
          ]
        }
      ]
    },
    {
      "cell_type": "markdown",
      "source": [
        "**III - PY-VNCORENLP (VNCORENLP)**\n",
        "\n",
        "PY-VNCORENLP là phiên bản wrap của vncorenlp trên Python. Py-vncorenlp có thể được dùng để nhận dạng ranh giới câu, tách từ, gán nhãn từ loại và phân tích cú pháp phụ thuộc. Kết quả xử lý được đặt trong một đối tượng để từ đó truy xuất đến từng kết quả như mong muốn.\n",
        "\n",
        "***1) Cài đặt py-vncorenlp***"
      ],
      "metadata": {
        "id": "3cX_Qwne_XtA"
      }
    },
    {
      "cell_type": "code",
      "source": [
        "%%capture\n",
        "!pip install py-vncorenlp"
      ],
      "metadata": {
        "id": "Yk9awu831JGo"
      },
      "execution_count": null,
      "outputs": []
    },
    {
      "cell_type": "markdown",
      "source": [
        "***2) Khởi tạo đối tượng VnCoreNLP***\n",
        "\n",
        "Đối tượng VnCoreNLP có nhiệm vụ thực hiện các tác vụ đã được nêu ở trên.\n",
        "\n",
        "Lưu ý, đối tượng VnCoreNLP chỉ được khởi tạo một lần. Nếu khởi tạo một lần nữa sẽ bị lỗi do đối tượng trước đã chiếm dụng tài nguyên của máy, đối tượng sau sẽ không được tạo."
      ],
      "metadata": {
        "id": "nLjIS3te_rRD"
      }
    },
    {
      "cell_type": "code",
      "source": [
        "import py_vncorenlp\n",
        "py_vncorenlp.download_model(save_dir='./')\n",
        "model = py_vncorenlp.VnCoreNLP(annotators=[\"wseg\", \"pos\", \"ner\", \"parse\"], save_dir='./')"
      ],
      "metadata": {
        "id": "_4OHuPd73xwM"
      },
      "execution_count": null,
      "outputs": []
    },
    {
      "cell_type": "markdown",
      "source": [
        "***3) Xử lý với đối tượng VnCoreNLP***\n",
        "\n",
        "Truyền một đoạn hoặc một văn bản cho đối tượng VnCoreNLP. Kết quả là một tài liệu đã được xử lý gồm các câu."
      ],
      "metadata": {
        "id": "IME-jr_AAbid"
      }
    },
    {
      "cell_type": "code",
      "source": [
        "sentences = model.annotate_text(\"Hoa Kỳ là thị trường xuất khẩu lớn nhất của Huyện Định Quán . Vitamin tham gia vào quá trình chuyển hoá năng lượng của cơ thể\")"
      ],
      "metadata": {
        "id": "tAtKa7Tx4NoD"
      },
      "execution_count": null,
      "outputs": []
    },
    {
      "cell_type": "markdown",
      "source": [
        "Kết quả xử lý kết quả phân tích cú pháp phụ thuộc của các câu."
      ],
      "metadata": {
        "id": "cT2bY8-iBOWy"
      }
    },
    {
      "cell_type": "code",
      "source": [
        "sentences[0]"
      ],
      "metadata": {
        "colab": {
          "base_uri": "https://localhost:8080/"
        },
        "id": "SplnCRRQBQPJ",
        "outputId": "d74528b2-28a6-4c9f-dce9-781fd6e82b30"
      },
      "execution_count": null,
      "outputs": [
        {
          "output_type": "execute_result",
          "data": {
            "text/plain": [
              "[{'index': 1,\n",
              "  'wordForm': 'Hoa_Kỳ',\n",
              "  'posTag': 'Np',\n",
              "  'nerLabel': 'B-LOC',\n",
              "  'head': 2,\n",
              "  'depLabel': 'sub'},\n",
              " {'index': 2,\n",
              "  'wordForm': 'là',\n",
              "  'posTag': 'V',\n",
              "  'nerLabel': 'O',\n",
              "  'head': 0,\n",
              "  'depLabel': 'root'},\n",
              " {'index': 3,\n",
              "  'wordForm': 'thị_trường',\n",
              "  'posTag': 'N',\n",
              "  'nerLabel': 'O',\n",
              "  'head': 2,\n",
              "  'depLabel': 'vmod'},\n",
              " {'index': 4,\n",
              "  'wordForm': 'xuất_khẩu',\n",
              "  'posTag': 'V',\n",
              "  'nerLabel': 'O',\n",
              "  'head': 3,\n",
              "  'depLabel': 'nmod'},\n",
              " {'index': 5,\n",
              "  'wordForm': 'lớn',\n",
              "  'posTag': 'A',\n",
              "  'nerLabel': 'O',\n",
              "  'head': 3,\n",
              "  'depLabel': 'nmod'},\n",
              " {'index': 6,\n",
              "  'wordForm': 'nhất',\n",
              "  'posTag': 'A',\n",
              "  'nerLabel': 'O',\n",
              "  'head': 5,\n",
              "  'depLabel': 'amod'},\n",
              " {'index': 7,\n",
              "  'wordForm': 'của',\n",
              "  'posTag': 'E',\n",
              "  'nerLabel': 'O',\n",
              "  'head': 3,\n",
              "  'depLabel': 'nmod'},\n",
              " {'index': 8,\n",
              "  'wordForm': 'Huyện',\n",
              "  'posTag': 'N',\n",
              "  'nerLabel': 'B-LOC',\n",
              "  'head': 7,\n",
              "  'depLabel': 'pob'},\n",
              " {'index': 9,\n",
              "  'wordForm': 'Định_Quán',\n",
              "  'posTag': 'Np',\n",
              "  'nerLabel': 'I-LOC',\n",
              "  'head': 8,\n",
              "  'depLabel': 'nmod'},\n",
              " {'index': 10,\n",
              "  'wordForm': '.',\n",
              "  'posTag': 'CH',\n",
              "  'nerLabel': 'O',\n",
              "  'head': 2,\n",
              "  'depLabel': 'punct'}]"
            ]
          },
          "metadata": {},
          "execution_count": 33
        }
      ]
    },
    {
      "cell_type": "code",
      "source": [
        "sentences[0][0][\"posTag\"]"
      ],
      "metadata": {
        "colab": {
          "base_uri": "https://localhost:8080/",
          "height": 36
        },
        "id": "O5xNCYKbQQBL",
        "outputId": "ff0d847d-a394-4cb4-91e7-1f7f284217e3"
      },
      "execution_count": null,
      "outputs": [
        {
          "output_type": "execute_result",
          "data": {
            "text/plain": [
              "'Np'"
            ],
            "application/vnd.google.colaboratory.intrinsic+json": {
              "type": "string"
            }
          },
          "metadata": {},
          "execution_count": 34
        }
      ]
    },
    {
      "cell_type": "markdown",
      "source": [
        "Mỗi câu gồm nhiều từ. Với mỗi từ, Dùng key 'wordForm' và 'posTag' để xác định biểu diễn từ đã được tách và nhãn từ loại của nó"
      ],
      "metadata": {
        "id": "KinY5DhjBkk6"
      }
    },
    {
      "cell_type": "code",
      "source": [
        "sent = sentences[0]\n",
        "for word in sent:\n",
        "  print(word['wordForm'], word['posTag'])"
      ],
      "metadata": {
        "colab": {
          "base_uri": "https://localhost:8080/"
        },
        "id": "p5cMeP5M4zkB",
        "outputId": "3320b2b4-3bbf-4603-b621-513004799bf8"
      },
      "execution_count": null,
      "outputs": [
        {
          "output_type": "stream",
          "name": "stdout",
          "text": [
            "Hoa_Kỳ Np\n",
            "là V\n",
            "thị_trường N\n",
            "xuất_khẩu V\n",
            "lớn A\n",
            "nhất A\n",
            "của E\n",
            "Huyện N\n",
            "Định_Quán Np\n",
            ". CH\n"
          ]
        }
      ]
    }
  ]
}